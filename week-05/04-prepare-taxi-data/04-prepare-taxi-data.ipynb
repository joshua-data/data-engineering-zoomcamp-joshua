{
 "cells": [
  {
   "cell_type": "markdown",
   "id": "c0faeae7",
   "metadata": {},
   "source": [
    "### Run Spark"
   ]
  },
  {
   "cell_type": "code",
   "execution_count": 39,
   "id": "fe71adea",
   "metadata": {},
   "outputs": [],
   "source": [
    "import pyspark\n",
    "from pyspark.sql import SparkSession"
   ]
  },
  {
   "cell_type": "code",
   "execution_count": 40,
   "id": "2e0a3133",
   "metadata": {},
   "outputs": [],
   "source": [
    "spark = SparkSession.builder \\\n",
    "    .master('local[*]') \\\n",
    "    .appName('test') \\\n",
    "    .getOrCreate()"
   ]
  },
  {
   "cell_type": "markdown",
   "id": "69c7de74",
   "metadata": {},
   "source": [
    "### Load and Write File with Partitioning"
   ]
  },
  {
   "cell_type": "code",
   "execution_count": 41,
   "id": "35933f0d",
   "metadata": {},
   "outputs": [],
   "source": [
    "from pyspark.sql import types\n",
    "from pyspark.sql import functions as F"
   ]
  },
  {
   "cell_type": "code",
   "execution_count": 45,
   "id": "f3849b0e",
   "metadata": {},
   "outputs": [],
   "source": [
    "yellow_schema = types.StructType(\n",
    "    [\n",
    "        types.StructField(\"VendorID\", types.LongType(), True),\n",
    "        types.StructField(\"tpep_pickup_datetime\", types.TimestampType(), True),\n",
    "        types.StructField(\"tpep_dropoff_datetime\", types.TimestampType(), True),\n",
    "        types.StructField(\"passenger_count\", types.DoubleType(), True),\n",
    "        types.StructField(\"trip_distance\", types.DoubleType(), True),\n",
    "        types.StructField(\"RatecodeID\", types.DoubleType(), True),\n",
    "        types.StructField(\"store_and_fwd_flag\", types.StringType(), True),\n",
    "        types.StructField(\"PULocationID\", types.LongType(), True),\n",
    "        types.StructField(\"DOLocationID\", types.LongType(), True),\n",
    "        types.StructField(\"payment_type\", types.LongType(), True),\n",
    "        types.StructField(\"fare_amount\", types.DoubleType(), True),\n",
    "        types.StructField(\"extra\", types.DoubleType(), True),\n",
    "        types.StructField(\"mta_tax\", types.DoubleType(), True),\n",
    "        types.StructField(\"tip_amount\", types.DoubleType(), True),\n",
    "        types.StructField(\"tolls_amount\", types.DoubleType(), True),\n",
    "        types.StructField(\"improvement_surcharge\", types.DoubleType(), True),\n",
    "        types.StructField(\"total_amount\", types.DoubleType(), True),\n",
    "        types.StructField(\"congestion_surcharge\", types.DoubleType(), True),\n",
    "        types.StructField(\"airport_fee\", types.DoubleType(), True)\n",
    "    ]\n",
    ")\n",
    "\n",
    "green_schema = types.StructType(\n",
    "    [\n",
    "        types.StructField(\"VendorID\", types.LongType(), True),\n",
    "        types.StructField(\"lpep_pickup_datetime\", types.TimestampType(), True),\n",
    "        types.StructField(\"lpep_dropoff_datetime\", types.TimestampType(), True),\n",
    "        types.StructField(\"store_and_fwd_flag\", types.StringType(), True),\n",
    "        types.StructField(\"RatecodeID\", types.DoubleType(), True),\n",
    "        types.StructField(\"PULocationID\", types.LongType(), True),\n",
    "        types.StructField(\"DOLocationID\", types.LongType(), True),\n",
    "        types.StructField(\"passenger_count\", types.DoubleType(), True),\n",
    "        types.StructField(\"trip_distance\", types.DoubleType(), True),\n",
    "        types.StructField(\"fare_amount\", types.DoubleType(), True),\n",
    "        types.StructField(\"extra\", types.DoubleType(), True),\n",
    "        types.StructField(\"mta_tax\", types.DoubleType(), True),\n",
    "        types.StructField(\"tip_amount\", types.DoubleType(), True),\n",
    "        types.StructField(\"tolls_amount\", types.DoubleType(), True),\n",
    "        types.StructField(\"ehail_fee\", types.DoubleType(), True),\n",
    "        types.StructField(\"improvement_surcharge\", types.DoubleType(), True),\n",
    "        types.StructField(\"total_amount\", types.DoubleType(), True),\n",
    "        types.StructField(\"payment_type\", types.LongType(), True),\n",
    "        types.StructField(\"trip_type\", types.IntegerType(), True),\n",
    "        types.StructField(\"congestion_surcharge\", types.DoubleType(), True)\n",
    "    ]\n",
    ")"
   ]
  },
  {
   "cell_type": "code",
   "execution_count": 46,
   "id": "aa2cce27",
   "metadata": {},
   "outputs": [],
   "source": [
    "def cast_columns(df, schema):\n",
    "\n",
    "    for field in schema.fields:\n",
    "\n",
    "        col_name = field.name\n",
    "        target_type = field.dataType\n",
    "\n",
    "        if col_name in df.columns:\n",
    "\n",
    "            # INT32 -> BIGINT(LongType)\n",
    "            if isinstance(df.schema[col_name].dataType, types.IntegerType) and isinstance(target_type, types.LongType):\n",
    "                df = df.withColumn(col_name, F.col(col_name).cast(types.LongType()))\n",
    "            else:\n",
    "                df = df.withColumn(col_name, F.col(col_name).cast(target_type))\n",
    "    \n",
    "    return df"
   ]
  },
  {
   "cell_type": "code",
   "execution_count": 47,
   "id": "7c1668d6",
   "metadata": {},
   "outputs": [
    {
     "name": "stdout",
     "output_type": "stream",
     "text": [
      "Processing Data for yellow/2023/1...\n"
     ]
    },
    {
     "name": "stderr",
     "output_type": "stream",
     "text": [
      "                                                                                \r"
     ]
    },
    {
     "name": "stdout",
     "output_type": "stream",
     "text": [
      "Processing Data for yellow/2023/2...\n"
     ]
    },
    {
     "name": "stderr",
     "output_type": "stream",
     "text": [
      "                                                                                \r"
     ]
    },
    {
     "name": "stdout",
     "output_type": "stream",
     "text": [
      "Processing Data for yellow/2023/3...\n"
     ]
    },
    {
     "name": "stderr",
     "output_type": "stream",
     "text": [
      "                                                                                \r"
     ]
    },
    {
     "name": "stdout",
     "output_type": "stream",
     "text": [
      "Processing Data for yellow/2023/4...\n"
     ]
    },
    {
     "name": "stderr",
     "output_type": "stream",
     "text": [
      "                                                                                \r"
     ]
    },
    {
     "name": "stdout",
     "output_type": "stream",
     "text": [
      "Processing Data for yellow/2023/5...\n"
     ]
    },
    {
     "name": "stderr",
     "output_type": "stream",
     "text": [
      "                                                                                \r"
     ]
    },
    {
     "name": "stdout",
     "output_type": "stream",
     "text": [
      "Processing Data for yellow/2023/6...\n"
     ]
    },
    {
     "name": "stderr",
     "output_type": "stream",
     "text": [
      "                                                                                \r"
     ]
    },
    {
     "name": "stdout",
     "output_type": "stream",
     "text": [
      "Processing Data for yellow/2023/7...\n"
     ]
    },
    {
     "name": "stderr",
     "output_type": "stream",
     "text": [
      "                                                                                \r"
     ]
    },
    {
     "name": "stdout",
     "output_type": "stream",
     "text": [
      "Processing Data for yellow/2023/8...\n"
     ]
    },
    {
     "name": "stderr",
     "output_type": "stream",
     "text": [
      "                                                                                \r"
     ]
    },
    {
     "name": "stdout",
     "output_type": "stream",
     "text": [
      "Processing Data for yellow/2023/9...\n"
     ]
    },
    {
     "name": "stderr",
     "output_type": "stream",
     "text": [
      "                                                                                \r"
     ]
    },
    {
     "name": "stdout",
     "output_type": "stream",
     "text": [
      "Processing Data for yellow/2023/10...\n"
     ]
    },
    {
     "name": "stderr",
     "output_type": "stream",
     "text": [
      "                                                                                \r"
     ]
    },
    {
     "name": "stdout",
     "output_type": "stream",
     "text": [
      "Processing Data for yellow/2023/11...\n"
     ]
    },
    {
     "name": "stderr",
     "output_type": "stream",
     "text": [
      "                                                                                \r"
     ]
    },
    {
     "name": "stdout",
     "output_type": "stream",
     "text": [
      "Processing Data for yellow/2023/12...\n"
     ]
    },
    {
     "name": "stderr",
     "output_type": "stream",
     "text": [
      "                                                                                \r"
     ]
    },
    {
     "name": "stdout",
     "output_type": "stream",
     "text": [
      "Processing Data for green/2023/1...\n",
      "Processing Data for green/2023/2...\n",
      "Processing Data for green/2023/3...\n",
      "Processing Data for green/2023/4...\n",
      "Processing Data for green/2023/5...\n",
      "Processing Data for green/2023/6...\n",
      "Processing Data for green/2023/7...\n",
      "Processing Data for green/2023/8...\n",
      "Processing Data for green/2023/9...\n",
      "Processing Data for green/2023/10...\n",
      "Processing Data for green/2023/11...\n",
      "Processing Data for green/2023/12...\n",
      "Processing Data for yellow/2024/1...\n"
     ]
    },
    {
     "name": "stderr",
     "output_type": "stream",
     "text": [
      "                                                                                \r"
     ]
    },
    {
     "name": "stdout",
     "output_type": "stream",
     "text": [
      "Processing Data for yellow/2024/2...\n"
     ]
    },
    {
     "name": "stderr",
     "output_type": "stream",
     "text": [
      "                                                                                \r"
     ]
    },
    {
     "name": "stdout",
     "output_type": "stream",
     "text": [
      "Processing Data for yellow/2024/3...\n"
     ]
    },
    {
     "name": "stderr",
     "output_type": "stream",
     "text": [
      "                                                                                \r"
     ]
    },
    {
     "name": "stdout",
     "output_type": "stream",
     "text": [
      "Processing Data for yellow/2024/4...\n"
     ]
    },
    {
     "name": "stderr",
     "output_type": "stream",
     "text": [
      "                                                                                \r"
     ]
    },
    {
     "name": "stdout",
     "output_type": "stream",
     "text": [
      "Processing Data for yellow/2024/5...\n"
     ]
    },
    {
     "name": "stderr",
     "output_type": "stream",
     "text": [
      "                                                                                \r"
     ]
    },
    {
     "name": "stdout",
     "output_type": "stream",
     "text": [
      "Processing Data for yellow/2024/6...\n"
     ]
    },
    {
     "name": "stderr",
     "output_type": "stream",
     "text": [
      "                                                                                \r"
     ]
    },
    {
     "name": "stdout",
     "output_type": "stream",
     "text": [
      "Processing Data for yellow/2024/7...\n"
     ]
    },
    {
     "name": "stderr",
     "output_type": "stream",
     "text": [
      "                                                                                \r"
     ]
    },
    {
     "name": "stdout",
     "output_type": "stream",
     "text": [
      "Processing Data for yellow/2024/8...\n"
     ]
    },
    {
     "name": "stderr",
     "output_type": "stream",
     "text": [
      "                                                                                \r"
     ]
    },
    {
     "name": "stdout",
     "output_type": "stream",
     "text": [
      "Processing Data for yellow/2024/9...\n"
     ]
    },
    {
     "name": "stderr",
     "output_type": "stream",
     "text": [
      "                                                                                \r"
     ]
    },
    {
     "name": "stdout",
     "output_type": "stream",
     "text": [
      "Processing Data for yellow/2024/10...\n"
     ]
    },
    {
     "name": "stderr",
     "output_type": "stream",
     "text": [
      "                                                                                \r"
     ]
    },
    {
     "name": "stdout",
     "output_type": "stream",
     "text": [
      "Processing Data for yellow/2024/11...\n"
     ]
    },
    {
     "name": "stderr",
     "output_type": "stream",
     "text": [
      "                                                                                \r"
     ]
    },
    {
     "name": "stdout",
     "output_type": "stream",
     "text": [
      "Processing Data for green/2024/1...\n",
      "Processing Data for green/2024/2...\n",
      "Processing Data for green/2024/3...\n",
      "Processing Data for green/2024/4...\n",
      "Processing Data for green/2024/5...\n",
      "Processing Data for green/2024/6...\n",
      "Processing Data for green/2024/7...\n",
      "Processing Data for green/2024/8...\n",
      "Processing Data for green/2024/9...\n",
      "Processing Data for green/2024/10...\n",
      "Processing Data for green/2024/11...\n"
     ]
    }
   ],
   "source": [
    "years = [2023, 2024]\n",
    "taxi_types = [\"yellow\", \"green\"]\n",
    "\n",
    "for year in years:\n",
    "\n",
    "    months = range(1, 13) if year == 2023 else range(1, 12)  \n",
    "\n",
    "    for taxi_type in taxi_types:\n",
    "\n",
    "        schema = yellow_schema if taxi_type == 'yellow' else green_schema\n",
    "\n",
    "        for month in months:\n",
    "\n",
    "            print(f\"Processing Data for {taxi_type}/{year}/{month}...\")\n",
    "\n",
    "            input_folderpath = f\"data/raw/{taxi_type}/{year}/{month:02d}/\"\n",
    "            output_folderpath = f\"data/pq/{taxi_type}/{year}/{month:02d}/\"\n",
    "\n",
    "            df = spark.read \\\n",
    "                .option(\"header\", \"true\") \\\n",
    "                .option(\"inferSchema\", \"true\") \\\n",
    "                .parquet(input_folderpath)\n",
    "\n",
    "            df = cast_columns(df, schema)\n",
    "\n",
    "            df.repartition(4) \\\n",
    "                .write \\\n",
    "                .mode(\"overwrite\") \\\n",
    "                .parquet(output_folderpath)"
   ]
  },
  {
   "cell_type": "code",
   "execution_count": null,
   "id": "8ad05cf1",
   "metadata": {},
   "outputs": [],
   "source": []
  }
 ],
 "metadata": {
  "kernelspec": {
   "display_name": "Python 3 (ipykernel)",
   "language": "python",
   "name": "python3"
  },
  "language_info": {
   "codemirror_mode": {
    "name": "ipython",
    "version": 3
   },
   "file_extension": ".py",
   "mimetype": "text/x-python",
   "name": "python",
   "nbconvert_exporter": "python",
   "pygments_lexer": "ipython3",
   "version": "3.9.13"
  }
 },
 "nbformat": 4,
 "nbformat_minor": 5
}
