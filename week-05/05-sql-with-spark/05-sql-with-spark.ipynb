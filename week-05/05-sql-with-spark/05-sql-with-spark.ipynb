{
 "cells": [
  {
   "cell_type": "markdown",
   "id": "87e32aea",
   "metadata": {},
   "source": [
    "### Run Spark"
   ]
  },
  {
   "cell_type": "code",
   "execution_count": 1,
   "id": "7e6943f0",
   "metadata": {},
   "outputs": [
    {
     "name": "stderr",
     "output_type": "stream",
     "text": [
      "Setting default log level to \"WARN\".\n",
      "To adjust logging level use sc.setLogLevel(newLevel). For SparkR, use setLogLevel(newLevel).\n"
     ]
    },
    {
     "name": "stdout",
     "output_type": "stream",
     "text": [
      "25/01/30 00:12:20 WARN NativeCodeLoader: Unable to load native-hadoop library for your platform... using builtin-java classes where applicable\n",
      "25/01/30 00:12:21 WARN Utils: Service 'SparkUI' could not bind on port 4040. Attempting port 4041.\n"
     ]
    }
   ],
   "source": [
    "import pyspark\n",
    "from pyspark.sql import SparkSession\n",
    "\n",
    "spark = SparkSession.builder \\\n",
    "    .master('local[*]') \\\n",
    "    .appName('test') \\\n",
    "    .getOrCreate()"
   ]
  },
  {
   "cell_type": "markdown",
   "id": "b9cc0ff8",
   "metadata": {},
   "source": [
    "### Load Data and UnionAll Them"
   ]
  },
  {
   "cell_type": "code",
   "execution_count": 4,
   "id": "5d8b8b13",
   "metadata": {},
   "outputs": [],
   "source": [
    "yellow_folderpath = 'data/pq/yellow/*/*'\n",
    "green_folderpath = 'data/pq/green/*/*'"
   ]
  },
  {
   "cell_type": "code",
   "execution_count": 16,
   "id": "baf17997",
   "metadata": {},
   "outputs": [],
   "source": [
    "df_yellow = spark.read \\\n",
    "    .parquet(yellow_folderpath) \\\n",
    "    .selectExpr(\n",
    "        \"VendorID\",\n",
    "        \"tpep_pickup_datetime\",\n",
    "        \"tpep_dropoff_datetime\",\n",
    "        \"passenger_count\",\n",
    "        \"trip_distance\",\n",
    "        \"RatecodeID\",\n",
    "        \"store_and_fwd_flag\",\n",
    "        \"PULocationID\",\n",
    "        \"DOLocationID\",\n",
    "        \"payment_type\",\n",
    "        \"fare_amount\",\n",
    "        \"extra\",\n",
    "        \"mta_tax\",\n",
    "        \"tip_amount\",\n",
    "        \"tolls_amount\",\n",
    "        \"improvement_surcharge\",\n",
    "        \"total_amount\",\n",
    "        \"congestion_surcharge\",\n",
    "        \"airport_fee\"\n",
    "    )\n",
    "\n",
    "df_green = spark \\\n",
    "    .read.parquet(green_folderpath) \\\n",
    "    .selectExpr(\n",
    "        \"VendorID\",\n",
    "        \"lpep_pickup_datetime\",\n",
    "        \"lpep_dropoff_datetime\",\n",
    "        \"passenger_count\",\n",
    "        \"trip_distance\",\n",
    "        \"RatecodeID\",\n",
    "        \"store_and_fwd_flag\",\n",
    "        \"PULocationID\",\n",
    "        \"DOLocationID\",\n",
    "        \"payment_type\",\n",
    "        \"fare_amount\",\n",
    "        \"extra\",\n",
    "        \"mta_tax\",\n",
    "        \"tip_amount\",\n",
    "        \"tolls_amount\",\n",
    "        \"improvement_surcharge\",\n",
    "        \"total_amount\",\n",
    "        \"congestion_surcharge\"\n",
    "    )"
   ]
  },
  {
   "cell_type": "markdown",
   "id": "507d89f0",
   "metadata": {},
   "source": [
    "### Rename Columns"
   ]
  },
  {
   "cell_type": "code",
   "execution_count": 19,
   "id": "1561bd04",
   "metadata": {},
   "outputs": [],
   "source": [
    "df_yellow = df_yellow \\\n",
    "    .withColumnRenamed('tpep_pickup_datetime', 'pickup_datetime') \\\n",
    "    .withColumnRenamed('tpep_dropoff_datetime', 'dropoff_datetime')\n",
    "\n",
    "df_green = df_green \\\n",
    "    .withColumnRenamed('lpep_pickup_datetime', 'pickup_datetime') \\\n",
    "    .withColumnRenamed('lpep_dropoff_datetime', 'dropoff_datetime')"
   ]
  },
  {
   "cell_type": "markdown",
   "id": "6d5799c0",
   "metadata": {},
   "source": [
    "### Union All"
   ]
  },
  {
   "cell_type": "code",
   "execution_count": 26,
   "id": "46e17126",
   "metadata": {},
   "outputs": [],
   "source": [
    "common_cols = []\n",
    "\n",
    "for item in set(df_yellow.columns) & set(df_green.columns):\n",
    "    common_cols.append(item)"
   ]
  },
  {
   "cell_type": "code",
   "execution_count": 28,
   "id": "63ccfcfe",
   "metadata": {},
   "outputs": [],
   "source": [
    "from pyspark.sql import functions as F\n",
    "\n",
    "df_yellow_common = df_yellow \\\n",
    "    .select(common_cols) \\\n",
    "    .withColumn('service_type', F.lit('yellow'))\n",
    "\n",
    "df_green_common = df_green \\\n",
    "    .select(common_cols) \\\n",
    "    .withColumn('service_type', F.lit('green'))"
   ]
  },
  {
   "cell_type": "code",
   "execution_count": 29,
   "id": "cb3fd510",
   "metadata": {},
   "outputs": [],
   "source": [
    "df_all = df_yellow_common.unionAll(df_green_common)"
   ]
  },
  {
   "cell_type": "code",
   "execution_count": 30,
   "id": "5a3eb6b0",
   "metadata": {},
   "outputs": [
    {
     "name": "stderr",
     "output_type": "stream",
     "text": [
      "[Stage 16:==========================================>             (18 + 4) / 24]\r"
     ]
    },
    {
     "name": "stdout",
     "output_type": "stream",
     "text": [
      "+------------+--------+\n",
      "|service_type|   count|\n",
      "+------------+--------+\n",
      "|      yellow|75811575|\n",
      "|       green| 1393284|\n",
      "+------------+--------+\n",
      "\n"
     ]
    },
    {
     "name": "stderr",
     "output_type": "stream",
     "text": [
      "                                                                                \r"
     ]
    }
   ],
   "source": [
    "df_all.groupBy('service_type').count().show()"
   ]
  },
  {
   "cell_type": "markdown",
   "id": "fcdc40e8",
   "metadata": {},
   "source": [
    "### SQL"
   ]
  },
  {
   "cell_type": "code",
   "execution_count": 32,
   "id": "d39e5f37",
   "metadata": {},
   "outputs": [
    {
     "data": {
      "text/plain": [
       "['pickup_datetime',\n",
       " 'fare_amount',\n",
       " 'mta_tax',\n",
       " 'extra',\n",
       " 'PULocationID',\n",
       " 'tip_amount',\n",
       " 'total_amount',\n",
       " 'improvement_surcharge',\n",
       " 'DOLocationID',\n",
       " 'dropoff_datetime',\n",
       " 'trip_distance',\n",
       " 'VendorID',\n",
       " 'store_and_fwd_flag',\n",
       " 'tolls_amount',\n",
       " 'RatecodeID',\n",
       " 'passenger_count',\n",
       " 'payment_type',\n",
       " 'congestion_surcharge',\n",
       " 'service_type']"
      ]
     },
     "execution_count": 32,
     "metadata": {},
     "output_type": "execute_result"
    }
   ],
   "source": [
    "df_all.columns"
   ]
  },
  {
   "cell_type": "code",
   "execution_count": 34,
   "id": "e84f6854",
   "metadata": {},
   "outputs": [],
   "source": [
    "df_all.createOrReplaceTempView('trips_data')"
   ]
  },
  {
   "cell_type": "code",
   "execution_count": 35,
   "id": "ea1c7a08",
   "metadata": {},
   "outputs": [
    {
     "name": "stderr",
     "output_type": "stream",
     "text": [
      "[Stage 19:=======================================>                (17 + 4) / 24]\r"
     ]
    },
    {
     "name": "stdout",
     "output_type": "stream",
     "text": [
      "+------------+--------+\n",
      "|service_type|     cnt|\n",
      "+------------+--------+\n",
      "|      yellow|75811575|\n",
      "|       green| 1393284|\n",
      "+------------+--------+\n",
      "\n"
     ]
    },
    {
     "name": "stderr",
     "output_type": "stream",
     "text": [
      "                                                                                \r"
     ]
    }
   ],
   "source": [
    "query = \"\"\"\n",
    "    SELECT\n",
    "        service_type,\n",
    "        COUNT(1) AS cnt\n",
    "    FROM\n",
    "        trips_data\n",
    "    GROUP BY\n",
    "        1\n",
    "\"\"\"\n",
    "\n",
    "spark.sql(query).show()"
   ]
  },
  {
   "cell_type": "code",
   "execution_count": 36,
   "id": "8cd953bb",
   "metadata": {},
   "outputs": [],
   "source": [
    "query = \"\"\"\n",
    "\n",
    "SELECT \n",
    "    PULocationID AS revenue_zone,\n",
    "    DATE_TRUNC('MONTH', pickup_datetime) AS yyyy_mm,\n",
    "    service_type,\n",
    "\n",
    "    SUM(fare_amount) AS fare_amount,\n",
    "    SUM(extra) AS extra,\n",
    "    SUM(mta_tax) AS mta_tax,\n",
    "    SUM(tip_amount) AS tip_amount,\n",
    "    SUM(tolls_amount) AS tolls_amount,\n",
    "    SUM(improvement_surcharge) AS improvement_surcharge,\n",
    "    SUM(total_amount) AS total_amount,\n",
    "    SUM(congestion_surcharge) AS congestion_surcharge,\n",
    "    AVG(passenger_count) AS avg_passenger_cnt,\n",
    "    AVG(trip_distance) AS avg_trip_distance\n",
    "FROM\n",
    "    trips_data\n",
    "GROUP BY\n",
    "    1, 2, 3\n",
    "\"\"\"\n",
    "\n",
    "df_result = spark.sql(query)"
   ]
  },
  {
   "cell_type": "code",
   "execution_count": 42,
   "id": "ae6257b4",
   "metadata": {},
   "outputs": [
    {
     "name": "stderr",
     "output_type": "stream",
     "text": [
      "                                                                                \r"
     ]
    }
   ],
   "source": [
    "result_folderpath = 'data/report/revenue/'\n",
    "\n",
    "# coalesce(1): Decrease the Number of Partitions to 1\n",
    "df_result.coalesce(1).write.parquet(result_folderpath, mode='overwrite')"
   ]
  },
  {
   "cell_type": "code",
   "execution_count": null,
   "id": "55ee72f2",
   "metadata": {},
   "outputs": [],
   "source": []
  }
 ],
 "metadata": {
  "kernelspec": {
   "display_name": "Python 3 (ipykernel)",
   "language": "python",
   "name": "python3"
  },
  "language_info": {
   "codemirror_mode": {
    "name": "ipython",
    "version": 3
   },
   "file_extension": ".py",
   "mimetype": "text/x-python",
   "name": "python",
   "nbconvert_exporter": "python",
   "pygments_lexer": "ipython3",
   "version": "3.9.13"
  }
 },
 "nbformat": 4,
 "nbformat_minor": 5
}
