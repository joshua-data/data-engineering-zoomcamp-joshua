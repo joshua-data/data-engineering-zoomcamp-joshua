{
 "cells": [
  {
   "cell_type": "code",
   "execution_count": 1,
   "id": "36f82dce",
   "metadata": {},
   "outputs": [
    {
     "name": "stderr",
     "output_type": "stream",
     "text": [
      "Setting default log level to \"WARN\".\n",
      "To adjust logging level use sc.setLogLevel(newLevel). For SparkR, use setLogLevel(newLevel).\n"
     ]
    },
    {
     "name": "stdout",
     "output_type": "stream",
     "text": [
      "25/01/30 15:50:34 WARN NativeCodeLoader: Unable to load native-hadoop library for your platform... using builtin-java classes where applicable\n"
     ]
    }
   ],
   "source": [
    "import pyspark\n",
    "from pyspark.sql import SparkSession\n",
    "\n",
    "spark = SparkSession.builder \\\n",
    "    .master('local[*]') \\\n",
    "    .appName('test') \\\n",
    "    .getOrCreate()"
   ]
  },
  {
   "cell_type": "code",
   "execution_count": 3,
   "id": "8ce6b19f",
   "metadata": {},
   "outputs": [
    {
     "name": "stderr",
     "output_type": "stream",
     "text": [
      "                                                                                \r"
     ]
    }
   ],
   "source": [
    "green_folderpath = 'data/pq/green/*/*'\n",
    "yellow_folderpath = 'data/pq/yellow/*/*'\n",
    "\n",
    "df_green = spark.read.parquet(green_folderpath)\n",
    "df_yellow = spark.read.parquet(yellow_folderpath)"
   ]
  },
  {
   "cell_type": "code",
   "execution_count": 4,
   "id": "3209b08f",
   "metadata": {},
   "outputs": [],
   "source": [
    "df_green.createOrReplaceTempView('green')\n",
    "df_yellow.createOrReplaceTempView('yellow')"
   ]
  },
  {
   "cell_type": "code",
   "execution_count": 5,
   "id": "d4c7320c",
   "metadata": {},
   "outputs": [],
   "source": [
    "df_green_revenue = spark.sql(\n",
    "    \"\"\"\n",
    "    SELECT\n",
    "        DATE_TRUNC('HOUR', lpep_pickup_datetime) AS hour,\n",
    "        PULocationID AS zone,\n",
    "        SUM(total_amount) AS amount,\n",
    "        COUNT(1) AS records_cnt\n",
    "    FROM\n",
    "        green\n",
    "    GROUP BY\n",
    "        1, 2\n",
    "    \"\"\"\n",
    ")\n",
    "\n",
    "df_yellow_revenue = spark.sql(\n",
    "    \"\"\"\n",
    "    SELECT\n",
    "        DATE_TRUNC('HOUR', tpep_pickup_datetime) AS hour,\n",
    "        PULocationID AS zone,\n",
    "        SUM(total_amount) AS amount,\n",
    "        COUNT(1) AS records_cnt\n",
    "    FROM\n",
    "        yellow\n",
    "    GROUP BY\n",
    "        1, 2\n",
    "    \"\"\"\n",
    ")"
   ]
  },
  {
   "cell_type": "code",
   "execution_count": 7,
   "id": "5b727d67",
   "metadata": {},
   "outputs": [
    {
     "name": "stderr",
     "output_type": "stream",
     "text": [
      "                                                                                \r"
     ]
    }
   ],
   "source": [
    "green_revenue_folderpath = 'data/report/revenue/green'\n",
    "yellow_revenue_folderpath = 'data/report/revenue/yellow'\n",
    "\n",
    "df_green_revenue \\\n",
    "    .repartition(20) \\\n",
    "    .write.parquet(green_revenue_folderpath, mode='overwrite')\n",
    "\n",
    "df_yellow_revenue \\\n",
    "    .repartition(20) \\\n",
    "    .write.parquet(yellow_revenue_folderpath, mode='overwrite')"
   ]
  }
 ],
 "metadata": {
  "kernelspec": {
   "display_name": "Python 3 (ipykernel)",
   "language": "python",
   "name": "python3"
  },
  "language_info": {
   "codemirror_mode": {
    "name": "ipython",
    "version": 3
   },
   "file_extension": ".py",
   "mimetype": "text/x-python",
   "name": "python",
   "nbconvert_exporter": "python",
   "pygments_lexer": "ipython3",
   "version": "3.9.13"
  }
 },
 "nbformat": 4,
 "nbformat_minor": 5
}
