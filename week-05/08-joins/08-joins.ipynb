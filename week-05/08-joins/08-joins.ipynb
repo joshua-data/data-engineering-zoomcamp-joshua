{
 "cells": [
  {
   "cell_type": "code",
   "execution_count": 1,
   "id": "cea32c72",
   "metadata": {},
   "outputs": [
    {
     "name": "stderr",
     "output_type": "stream",
     "text": [
      "Setting default log level to \"WARN\".\n",
      "To adjust logging level use sc.setLogLevel(newLevel). For SparkR, use setLogLevel(newLevel).\n"
     ]
    },
    {
     "name": "stdout",
     "output_type": "stream",
     "text": [
      "25/01/30 16:24:26 WARN NativeCodeLoader: Unable to load native-hadoop library for your platform... using builtin-java classes where applicable\n"
     ]
    }
   ],
   "source": [
    "import pyspark\n",
    "from pyspark.sql import SparkSession\n",
    "\n",
    "spark = SparkSession.builder \\\n",
    "    .master('local[*]') \\\n",
    "    .appName('test') \\\n",
    "    .getOrCreate()"
   ]
  },
  {
   "cell_type": "code",
   "execution_count": 2,
   "id": "f1188f0b",
   "metadata": {},
   "outputs": [
    {
     "name": "stderr",
     "output_type": "stream",
     "text": [
      "                                                                                \r"
     ]
    }
   ],
   "source": [
    "green_revenue_folderpath = 'data/report/revenue/green'\n",
    "yellow_revenue_folderpath = 'data/report/revenue/yellow'\n",
    "\n",
    "df_green_revenue = spark.read.parquet(green_revenue_folderpath)\n",
    "df_yellow_revenue = spark.read.parquet(yellow_revenue_folderpath)"
   ]
  },
  {
   "cell_type": "markdown",
   "id": "b38c27f0",
   "metadata": {},
   "source": [
    "### Joins: green + yellow"
   ]
  },
  {
   "cell_type": "code",
   "execution_count": 10,
   "id": "8449dcdd",
   "metadata": {},
   "outputs": [],
   "source": [
    "df_green_revenue_renamed = df_green_revenue \\\n",
    "    .withColumnRenamed('amount', 'green_amount') \\\n",
    "    .withColumnRenamed('records_cnt', 'green_records_cnt')\n",
    "    \n",
    "df_yellow_revenue_renamed = df_yellow_revenue \\\n",
    "    .withColumnRenamed('amount', 'yellow_amount') \\\n",
    "    .withColumnRenamed('records_cnt', 'yellow_records_cnt')\n",
    "    \n",
    "df_all_revenue = df_green_revenue_renamed.join(df_yellow_revenue_renamed, on=['hour', 'zone'], how='outer')"
   ]
  },
  {
   "cell_type": "code",
   "execution_count": 15,
   "id": "2e70ce25",
   "metadata": {},
   "outputs": [
    {
     "name": "stderr",
     "output_type": "stream",
     "text": [
      "[Stage 23:>                                                         (0 + 4) / 4]\r"
     ]
    },
    {
     "name": "stdout",
     "output_type": "stream",
     "text": [
      "+-------------------+----+------------+-----------------+-------------+------------------+\n",
      "|               hour|zone|green_amount|green_records_cnt|yellow_amount|yellow_records_cnt|\n",
      "+-------------------+----+------------+-----------------+-------------+------------------+\n",
      "|2001-01-01 00:00:00| 132|        null|             null|       180.56|                 2|\n",
      "|2002-12-31 22:00:00| 132|        null|             null|        73.58|                 2|\n",
      "|2002-12-31 22:00:00| 246|        null|             null|         11.2|                 1|\n",
      "|2002-12-31 23:00:00| 138|        null|             null|         69.3|                 1|\n",
      "|2003-01-01 00:00:00| 132|        null|             null|       298.37|                 3|\n",
      "|2008-12-31 10:00:00| 132|        null|             null|         21.0|                 1|\n",
      "|2008-12-31 22:00:00| 141|        null|             null|         19.9|                 1|\n",
      "|2008-12-31 23:00:00|  43|        null|             null|         84.0|                 1|\n",
      "|2008-12-31 23:00:00| 141|        null|             null|        32.76|                 1|\n",
      "|2008-12-31 23:00:00| 142|        null|             null|         13.3|                 1|\n",
      "|2008-12-31 23:00:00| 163|        null|             null|         33.2|                 2|\n",
      "|2008-12-31 23:00:00| 236|        null|             null|         26.4|                 1|\n",
      "|2009-01-01 00:00:00|  90|        null|             null|         26.7|                 1|\n",
      "|2009-01-01 00:00:00| 236|        null|             null|         14.0|                 1|\n",
      "|2009-01-01 00:00:00| 238|        null|             null|        27.12|                 1|\n",
      "|2009-01-01 02:00:00| 138|        null|             null|        25.55|                 1|\n",
      "|2009-01-01 05:00:00| 163|        null|             null|         18.2|                 1|\n",
      "|2009-01-01 07:00:00| 170|        null|             null|         29.4|                 1|\n",
      "|2009-01-01 20:00:00|  65|        43.2|                1|         null|              null|\n",
      "|2009-01-01 20:00:00| 193|        null|             null|          0.0|                 1|\n",
      "+-------------------+----+------------+-----------------+-------------+------------------+\n",
      "only showing top 20 rows\n",
      "\n"
     ]
    },
    {
     "name": "stderr",
     "output_type": "stream",
     "text": [
      "                                                                                \r"
     ]
    }
   ],
   "source": [
    "df_all_revenue.show()"
   ]
  },
  {
   "cell_type": "code",
   "execution_count": 16,
   "id": "d63e2e24",
   "metadata": {},
   "outputs": [
    {
     "name": "stderr",
     "output_type": "stream",
     "text": [
      "                                                                                \r"
     ]
    }
   ],
   "source": [
    "all_revenue_folderpath = 'data/report/revenue/total'\n",
    "\n",
    "df_all_revenue.write.parquet(all_revenue_folderpath, mode='overwrite')"
   ]
  },
  {
   "cell_type": "markdown",
   "id": "4d3a3bff",
   "metadata": {},
   "source": [
    "### Joins: Fact + Dim"
   ]
  },
  {
   "cell_type": "code",
   "execution_count": 17,
   "id": "1dee0dd6",
   "metadata": {},
   "outputs": [],
   "source": [
    "zones_folderpath = 'zones/'\n",
    "\n",
    "df_zones = spark.read.parquet(zones_folderpath)"
   ]
  },
  {
   "cell_type": "code",
   "execution_count": 18,
   "id": "e333def8",
   "metadata": {},
   "outputs": [
    {
     "name": "stdout",
     "output_type": "stream",
     "text": [
      "+----------+-------------+--------------------+------------+\n",
      "|LocationID|      Borough|                Zone|service_zone|\n",
      "+----------+-------------+--------------------+------------+\n",
      "|         1|          EWR|      Newark Airport|         EWR|\n",
      "|         2|       Queens|         Jamaica Bay|   Boro Zone|\n",
      "|         3|        Bronx|Allerton/Pelham G...|   Boro Zone|\n",
      "|         4|    Manhattan|       Alphabet City| Yellow Zone|\n",
      "|         5|Staten Island|       Arden Heights|   Boro Zone|\n",
      "|         6|Staten Island|Arrochar/Fort Wad...|   Boro Zone|\n",
      "|         7|       Queens|             Astoria|   Boro Zone|\n",
      "|         8|       Queens|        Astoria Park|   Boro Zone|\n",
      "|         9|       Queens|          Auburndale|   Boro Zone|\n",
      "|        10|       Queens|        Baisley Park|   Boro Zone|\n",
      "|        11|     Brooklyn|          Bath Beach|   Boro Zone|\n",
      "|        12|    Manhattan|        Battery Park| Yellow Zone|\n",
      "|        13|    Manhattan|   Battery Park City| Yellow Zone|\n",
      "|        14|     Brooklyn|           Bay Ridge|   Boro Zone|\n",
      "|        15|       Queens|Bay Terrace/Fort ...|   Boro Zone|\n",
      "|        16|       Queens|             Bayside|   Boro Zone|\n",
      "|        17|     Brooklyn|             Bedford|   Boro Zone|\n",
      "|        18|        Bronx|        Bedford Park|   Boro Zone|\n",
      "|        19|       Queens|           Bellerose|   Boro Zone|\n",
      "|        20|        Bronx|             Belmont|   Boro Zone|\n",
      "+----------+-------------+--------------------+------------+\n",
      "only showing top 20 rows\n",
      "\n"
     ]
    }
   ],
   "source": [
    "df_zones.show()"
   ]
  },
  {
   "cell_type": "code",
   "execution_count": 22,
   "id": "7b8906eb",
   "metadata": {},
   "outputs": [],
   "source": [
    "df_all_revenue_zones = df_all_revenue.join(\n",
    "    df_zones,\n",
    "    df_all_revenue.zone == df_zones.LocationID\n",
    ")"
   ]
  },
  {
   "cell_type": "code",
   "execution_count": 25,
   "id": "28e261aa",
   "metadata": {},
   "outputs": [
    {
     "name": "stderr",
     "output_type": "stream",
     "text": [
      "[Stage 53:==============>                                           (1 + 3) / 4]\r"
     ]
    },
    {
     "name": "stdout",
     "output_type": "stream",
     "text": [
      "+-------------------+------------+-----------------+-------------+------------------+---------+------------+\n",
      "|               hour|green_amount|green_records_cnt|yellow_amount|yellow_records_cnt|  Borough|service_zone|\n",
      "+-------------------+------------+-----------------+-------------+------------------+---------+------------+\n",
      "|2001-01-01 00:00:00|        null|             null|       180.56|                 2|   Queens|    Airports|\n",
      "|2002-12-31 22:00:00|        null|             null|        73.58|                 2|   Queens|    Airports|\n",
      "|2002-12-31 22:00:00|        null|             null|         11.2|                 1|Manhattan| Yellow Zone|\n",
      "|2002-12-31 23:00:00|        null|             null|         69.3|                 1|   Queens|    Airports|\n",
      "|2003-01-01 00:00:00|        null|             null|       298.37|                 3|   Queens|    Airports|\n",
      "|2008-12-31 10:00:00|        null|             null|         21.0|                 1|   Queens|    Airports|\n",
      "|2008-12-31 22:00:00|        null|             null|         19.9|                 1|Manhattan| Yellow Zone|\n",
      "|2008-12-31 23:00:00|        null|             null|         84.0|                 1|Manhattan| Yellow Zone|\n",
      "|2008-12-31 23:00:00|        null|             null|        32.76|                 1|Manhattan| Yellow Zone|\n",
      "|2008-12-31 23:00:00|        null|             null|         13.3|                 1|Manhattan| Yellow Zone|\n",
      "|2008-12-31 23:00:00|        null|             null|         33.2|                 2|Manhattan| Yellow Zone|\n",
      "|2008-12-31 23:00:00|        null|             null|         26.4|                 1|Manhattan| Yellow Zone|\n",
      "|2009-01-01 00:00:00|        null|             null|         26.7|                 1|Manhattan| Yellow Zone|\n",
      "|2009-01-01 00:00:00|        null|             null|         14.0|                 1|Manhattan| Yellow Zone|\n",
      "|2009-01-01 00:00:00|        null|             null|        27.12|                 1|Manhattan| Yellow Zone|\n",
      "|2009-01-01 02:00:00|        null|             null|        25.55|                 1|   Queens|    Airports|\n",
      "|2009-01-01 05:00:00|        null|             null|         18.2|                 1|Manhattan| Yellow Zone|\n",
      "|2009-01-01 07:00:00|        null|             null|         29.4|                 1|Manhattan| Yellow Zone|\n",
      "|2009-01-01 20:00:00|        43.2|                1|         null|              null| Brooklyn|   Boro Zone|\n",
      "|2009-01-01 20:00:00|        null|             null|          0.0|                 1|   Queens|   Boro Zone|\n",
      "+-------------------+------------+-----------------+-------------+------------------+---------+------------+\n",
      "only showing top 20 rows\n",
      "\n"
     ]
    },
    {
     "name": "stderr",
     "output_type": "stream",
     "text": [
      "                                                                                \r"
     ]
    }
   ],
   "source": [
    "df_all_revenue_zones = df_all_revenue_zones.drop('zone', 'LocationID')\n",
    "df_all_revenue_zones.show()"
   ]
  },
  {
   "cell_type": "code",
   "execution_count": 26,
   "id": "6d6ada3c",
   "metadata": {},
   "outputs": [
    {
     "name": "stderr",
     "output_type": "stream",
     "text": [
      "                                                                                \r"
     ]
    }
   ],
   "source": [
    "all_revenue_zones_folderpath = 'tmp/revenue-zones'\n",
    "\n",
    "df_all_revenue_zones.write.parquet(all_revenue_zones_folderpath, mode='overwrite')"
   ]
  }
 ],
 "metadata": {
  "kernelspec": {
   "display_name": "Python 3 (ipykernel)",
   "language": "python",
   "name": "python3"
  },
  "language_info": {
   "codemirror_mode": {
    "name": "ipython",
    "version": 3
   },
   "file_extension": ".py",
   "mimetype": "text/x-python",
   "name": "python",
   "nbconvert_exporter": "python",
   "pygments_lexer": "ipython3",
   "version": "3.9.13"
  }
 },
 "nbformat": 4,
 "nbformat_minor": 5
}
