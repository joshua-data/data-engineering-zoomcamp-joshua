{
 "cells": [
  {
   "cell_type": "code",
   "execution_count": 1,
   "id": "3300b585",
   "metadata": {},
   "outputs": [
    {
     "name": "stderr",
     "output_type": "stream",
     "text": [
      "Setting default log level to \"WARN\".\n",
      "To adjust logging level use sc.setLogLevel(newLevel). For SparkR, use setLogLevel(newLevel).\n"
     ]
    },
    {
     "name": "stdout",
     "output_type": "stream",
     "text": [
      "25/01/30 19:37:16 WARN NativeCodeLoader: Unable to load native-hadoop library for your platform... using builtin-java classes where applicable\n"
     ]
    }
   ],
   "source": [
    "import pyspark\n",
    "from pyspark.sql import SparkSession\n",
    "\n",
    "spark = SparkSession.builder \\\n",
    "    .master('local[*]') \\\n",
    "    .appName('test') \\\n",
    "    .getOrCreate()"
   ]
  },
  {
   "cell_type": "code",
   "execution_count": 2,
   "id": "1ca03016",
   "metadata": {},
   "outputs": [
    {
     "name": "stderr",
     "output_type": "stream",
     "text": [
      "                                                                                \r"
     ]
    }
   ],
   "source": [
    "green_folderpath = 'data/pq/green/*/*'\n",
    "\n",
    "df_green = spark.read.parquet(green_folderpath)"
   ]
  },
  {
   "cell_type": "markdown",
   "id": "08f41ce4",
   "metadata": {},
   "source": [
    "```sql\n",
    "SELECT \n",
    "    date_trunc('hour', lpep_pickup_datetime) AS hour, \n",
    "    PULocationID AS zone,\n",
    "\n",
    "    SUM(total_amount) AS amount,\n",
    "    COUNT(1) AS records_cnt\n",
    "FROM\n",
    "    green\n",
    "WHERE\n",
    "    lpep_pickup_datetime >= '2023-01-01 00:00:00'\n",
    "GROUP BY\n",
    "    1, 2\n",
    "```"
   ]
  },
  {
   "cell_type": "code",
   "execution_count": 5,
   "id": "605d1794",
   "metadata": {},
   "outputs": [
    {
     "name": "stdout",
     "output_type": "stream",
     "text": [
      "root\n",
      " |-- VendorID: long (nullable = true)\n",
      " |-- lpep_pickup_datetime: timestamp (nullable = true)\n",
      " |-- lpep_dropoff_datetime: timestamp (nullable = true)\n",
      " |-- store_and_fwd_flag: string (nullable = true)\n",
      " |-- RatecodeID: double (nullable = true)\n",
      " |-- PULocationID: long (nullable = true)\n",
      " |-- DOLocationID: long (nullable = true)\n",
      " |-- passenger_count: double (nullable = true)\n",
      " |-- trip_distance: double (nullable = true)\n",
      " |-- fare_amount: double (nullable = true)\n",
      " |-- extra: double (nullable = true)\n",
      " |-- mta_tax: double (nullable = true)\n",
      " |-- tip_amount: double (nullable = true)\n",
      " |-- tolls_amount: double (nullable = true)\n",
      " |-- ehail_fee: double (nullable = true)\n",
      " |-- improvement_surcharge: double (nullable = true)\n",
      " |-- total_amount: double (nullable = true)\n",
      " |-- payment_type: long (nullable = true)\n",
      " |-- trip_type: integer (nullable = true)\n",
      " |-- congestion_surcharge: double (nullable = true)\n",
      "\n"
     ]
    }
   ],
   "source": [
    "df_green.printSchema()"
   ]
  },
  {
   "cell_type": "code",
   "execution_count": 7,
   "id": "c673b77d",
   "metadata": {},
   "outputs": [],
   "source": [
    "rdd_green = df_green \\\n",
    "    .select('lpep_pickup_datetime', 'PULocationID', 'total_amount') \\\n",
    "    .rdd"
   ]
  },
  {
   "cell_type": "code",
   "execution_count": 10,
   "id": "d0902864",
   "metadata": {},
   "outputs": [
    {
     "data": {
      "text/plain": [
       "[Row(lpep_pickup_datetime=datetime.datetime(2023, 3, 16, 21, 7, 37), PULocationID=7, total_amount=13.32),\n",
       " Row(lpep_pickup_datetime=datetime.datetime(2023, 3, 16, 17, 23, 11), PULocationID=75, total_amount=15.75),\n",
       " Row(lpep_pickup_datetime=datetime.datetime(2023, 3, 18, 22, 46, 26), PULocationID=66, total_amount=37.62),\n",
       " Row(lpep_pickup_datetime=datetime.datetime(2023, 3, 30, 16, 59, 44), PULocationID=43, total_amount=16.8),\n",
       " Row(lpep_pickup_datetime=datetime.datetime(2023, 3, 28, 11, 28, 46), PULocationID=42, total_amount=8.0)]"
      ]
     },
     "execution_count": 10,
     "metadata": {},
     "output_type": "execute_result"
    }
   ],
   "source": [
    "rdd_green.take(5)"
   ]
  },
  {
   "cell_type": "code",
   "execution_count": 11,
   "id": "0625dbbf",
   "metadata": {},
   "outputs": [],
   "source": [
    "from datetime import datetime\n",
    "\n",
    "# Filter\n",
    "start_date = datetime(year=2023, month=1, day=1)\n",
    "def filter_since_2023(row):\n",
    "    return row.lpep_pickup_datetime >= start_date\n",
    "\n",
    "# Map\n",
    "def prepare_for_grouping(row):\n",
    "    \n",
    "    hour = row.lpep_pickup_datetime.replace(minute=0, second=0, microsecond=0)\n",
    "    zone = row.PULocationID\n",
    "    key = (hour, zone)\n",
    "    \n",
    "    amount = row.total_amount\n",
    "    records_cnt = 1\n",
    "    value = (amount, records_cnt)\n",
    "    \n",
    "    return (key, value)\n",
    "\n",
    "# Reduce\n",
    "def aggregate(left_v, right_v):\n",
    "    \n",
    "    left_amount, left_records_cnt = left_v\n",
    "    right_amount, right_records_cnt = right_v\n",
    "    \n",
    "    amount = left_amount + right_amount\n",
    "    records_cnt = left_records_cnt + right_records_cnt\n",
    "    \n",
    "    return (amount, records_cnt)"
   ]
  },
  {
   "cell_type": "code",
   "execution_count": 12,
   "id": "f4dcc980",
   "metadata": {},
   "outputs": [],
   "source": [
    "from pyspark.sql import types\n",
    "\n",
    "result_schema = types.StructType(\n",
    "    [\n",
    "        types.StructField('hour', types.TimestampType(), True),\n",
    "        types.StructField('zone', types.IntegerType(), True),\n",
    "        types.StructField('amount', types.DoubleType(), True),\n",
    "        types.StructField('records_cnt', types.IntegerType(), True)\n",
    "    ]\n",
    ")"
   ]
  },
  {
   "cell_type": "code",
   "execution_count": 17,
   "id": "d9f2b58c",
   "metadata": {},
   "outputs": [],
   "source": [
    "from collections import namedtuple\n",
    "\n",
    "result_row = namedtuple(\n",
    "    'result_row',\n",
    "    ['hour', 'zone', 'amount', 'records_cnt']\n",
    ")\n",
    "\n",
    "def unwrap(row):\n",
    "    return result_row(\n",
    "        hour=row[0][0],\n",
    "        zone=row[0][1],\n",
    "        amount=row[1][0],\n",
    "        records_cnt=row[1][1]\n",
    "    )"
   ]
  },
  {
   "cell_type": "code",
   "execution_count": 20,
   "id": "2490ab10",
   "metadata": {},
   "outputs": [],
   "source": [
    "df_result = rdd_green \\\n",
    "    .filter(filter_since_2023) \\\n",
    "    .map(prepare_for_grouping) \\\n",
    "    .reduceByKey(aggregate) \\\n",
    "    .map(unwrap) \\\n",
    "    .toDF(result_schema)"
   ]
  },
  {
   "cell_type": "code",
   "execution_count": 21,
   "id": "c44c8e8a",
   "metadata": {},
   "outputs": [
    {
     "name": "stderr",
     "output_type": "stream",
     "text": [
      "[Stage 10:===========================================>              (3 + 1) / 4]\r"
     ]
    },
    {
     "name": "stdout",
     "output_type": "stream",
     "text": [
      "+-------------------+----+-----------------+-----------+\n",
      "|               hour|zone|           amount|records_cnt|\n",
      "+-------------------+----+-----------------+-----------+\n",
      "|2023-03-16 17:00:00|  75|           1109.5|         55|\n",
      "|2023-03-04 21:00:00|  41|77.53999999999999|          6|\n",
      "|2023-03-24 22:00:00|   7|             82.3|          4|\n",
      "|2023-03-20 07:00:00|  74|846.2100000000003|         54|\n",
      "|2023-03-03 19:00:00|  74|           447.23|         22|\n",
      "+-------------------+----+-----------------+-----------+\n",
      "only showing top 5 rows\n",
      "\n"
     ]
    },
    {
     "name": "stderr",
     "output_type": "stream",
     "text": [
      "                                                                                \r"
     ]
    }
   ],
   "source": [
    "df_result.show(5)"
   ]
  },
  {
   "cell_type": "code",
   "execution_count": 22,
   "id": "b5ea1096",
   "metadata": {},
   "outputs": [
    {
     "name": "stderr",
     "output_type": "stream",
     "text": [
      "                                                                                \r"
     ]
    }
   ],
   "source": [
    "result_folderpath = 'tmp/green-revenue'\n",
    "\n",
    "df_result.write.parquet(result_folderpath)"
   ]
  }
 ],
 "metadata": {
  "kernelspec": {
   "display_name": "Python 3 (ipykernel)",
   "language": "python",
   "name": "python3"
  },
  "language_info": {
   "codemirror_mode": {
    "name": "ipython",
    "version": 3
   },
   "file_extension": ".py",
   "mimetype": "text/x-python",
   "name": "python",
   "nbconvert_exporter": "python",
   "pygments_lexer": "ipython3",
   "version": "3.9.13"
  }
 },
 "nbformat": 4,
 "nbformat_minor": 5
}
