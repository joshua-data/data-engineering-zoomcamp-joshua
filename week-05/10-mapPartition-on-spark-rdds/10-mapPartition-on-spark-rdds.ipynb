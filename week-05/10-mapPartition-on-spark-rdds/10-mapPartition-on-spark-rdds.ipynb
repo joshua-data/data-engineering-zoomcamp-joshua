{
 "cells": [
  {
   "cell_type": "code",
   "execution_count": 1,
   "id": "2e1f3fc6",
   "metadata": {},
   "outputs": [
    {
     "name": "stderr",
     "output_type": "stream",
     "text": [
      "Setting default log level to \"WARN\".\n",
      "To adjust logging level use sc.setLogLevel(newLevel). For SparkR, use setLogLevel(newLevel).\n"
     ]
    },
    {
     "name": "stdout",
     "output_type": "stream",
     "text": [
      "25/01/30 20:10:54 WARN NativeCodeLoader: Unable to load native-hadoop library for your platform... using builtin-java classes where applicable\n",
      "25/01/30 20:10:55 WARN Utils: Service 'SparkUI' could not bind on port 4040. Attempting port 4041.\n"
     ]
    }
   ],
   "source": [
    "import pyspark\n",
    "from pyspark.sql import SparkSession\n",
    "\n",
    "spark = SparkSession.builder \\\n",
    "    .master('local[*]') \\\n",
    "    .appName('test') \\\n",
    "    .getOrCreate()"
   ]
  },
  {
   "cell_type": "code",
   "execution_count": 2,
   "id": "3158e952",
   "metadata": {},
   "outputs": [
    {
     "name": "stderr",
     "output_type": "stream",
     "text": [
      "                                                                                \r"
     ]
    }
   ],
   "source": [
    "green_folderpath = 'data/pq/green/*/*'\n",
    "\n",
    "df_green = spark.read.parquet(green_folderpath)"
   ]
  },
  {
   "cell_type": "code",
   "execution_count": 5,
   "id": "906f4295",
   "metadata": {},
   "outputs": [],
   "source": [
    "cols = [\n",
    "    'VendorID',\n",
    "    'lpep_pickup_datetime',\n",
    "    'PULocationID',\n",
    "    'DOLocationID',\n",
    "    'trip_distance'\n",
    "]\n",
    "\n",
    "duration_rdd = df_green \\\n",
    "    .select(cols) \\\n",
    "    .rdd"
   ]
  },
  {
   "cell_type": "code",
   "execution_count": 7,
   "id": "19d6c998",
   "metadata": {},
   "outputs": [],
   "source": [
    "import pandas as pd\n",
    "\n",
    "def predict(df):\n",
    "    pred = df.trip_distance * 5\n",
    "    return pred\n",
    "\n",
    "def apply_model_in_batch(rows):\n",
    "    df = pd.DataFrame(rows, columns=cols)\n",
    "    preds = predict(df)\n",
    "    df['predicted_duration'] = preds\n",
    "    \n",
    "    for row in df.itertuples():\n",
    "        yield row"
   ]
  },
  {
   "cell_type": "code",
   "execution_count": 10,
   "id": "0302d765",
   "metadata": {},
   "outputs": [
    {
     "name": "stderr",
     "output_type": "stream",
     "text": [
      "                                                                                \r"
     ]
    }
   ],
   "source": [
    "df_predicted = duration_rdd \\\n",
    "    .mapPartitions(apply_model_in_batch) \\\n",
    "    .toDF() \\\n",
    "    .drop('Index')"
   ]
  },
  {
   "cell_type": "code",
   "execution_count": 12,
   "id": "85c7990e",
   "metadata": {},
   "outputs": [
    {
     "name": "stderr",
     "output_type": "stream",
     "text": [
      "[Stage 7:>                                                          (0 + 1) / 1]\r"
     ]
    },
    {
     "name": "stdout",
     "output_type": "stream",
     "text": [
      "+--------+-------------+------------------+\n",
      "|VendorID|trip_distance|predicted_duration|\n",
      "+--------+-------------+------------------+\n",
      "|       2|         0.94| 4.699999999999999|\n",
      "|       2|         1.42|               7.1|\n",
      "|       2|         4.87|             24.35|\n",
      "|       2|         1.43|7.1499999999999995|\n",
      "|       2|         0.64|               3.2|\n",
      "|       2|         5.64|              28.2|\n",
      "|       2|         2.86|14.299999999999999|\n",
      "|       2|         0.48|               2.4|\n",
      "|       2|          4.0|              20.0|\n",
      "|       2|         2.16|              10.8|\n",
      "|       2|         3.71|             18.55|\n",
      "|       2|         1.06| 5.300000000000001|\n",
      "|       2|         0.82|               4.1|\n",
      "|       2|        13.45|             67.25|\n",
      "|       2|         3.53|             17.65|\n",
      "|       2|         1.56| 7.800000000000001|\n",
      "|       2|         7.07|             35.35|\n",
      "|       1|          2.0|              10.0|\n",
      "|       2|         1.38|6.8999999999999995|\n",
      "|       2|         3.97|             19.85|\n",
      "+--------+-------------+------------------+\n",
      "only showing top 20 rows\n",
      "\n"
     ]
    },
    {
     "name": "stderr",
     "output_type": "stream",
     "text": [
      "                                                                                \r"
     ]
    }
   ],
   "source": [
    "df_predicted \\\n",
    "    .select('VendorID', 'trip_distance', 'predicted_duration') \\\n",
    "    .show()"
   ]
  },
  {
   "cell_type": "code",
   "execution_count": null,
   "id": "1369ee3e",
   "metadata": {},
   "outputs": [],
   "source": []
  }
 ],
 "metadata": {
  "kernelspec": {
   "display_name": "Python 3 (ipykernel)",
   "language": "python",
   "name": "python3"
  },
  "language_info": {
   "codemirror_mode": {
    "name": "ipython",
    "version": 3
   },
   "file_extension": ".py",
   "mimetype": "text/x-python",
   "name": "python",
   "nbconvert_exporter": "python",
   "pygments_lexer": "ipython3",
   "version": "3.9.13"
  }
 },
 "nbformat": 4,
 "nbformat_minor": 5
}
