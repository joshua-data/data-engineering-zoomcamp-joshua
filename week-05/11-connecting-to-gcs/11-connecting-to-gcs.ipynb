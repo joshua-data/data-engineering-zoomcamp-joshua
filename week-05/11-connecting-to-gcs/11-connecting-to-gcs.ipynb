{
 "cells": [
  {
   "cell_type": "code",
   "execution_count": 2,
   "id": "aa061278",
   "metadata": {},
   "outputs": [],
   "source": [
    "import pyspark\n",
    "from pyspark.sql import SparkSession\n",
    "from pyspark.conf import SparkConf\n",
    "from pyspark.context import SparkContext"
   ]
  },
  {
   "cell_type": "code",
   "execution_count": 3,
   "id": "ec4d8248",
   "metadata": {},
   "outputs": [],
   "source": [
    "credentials_fpath = '/home/joshua/.google/credentials/google_credentials.json'\n",
    "connector_fpath = './lib/gcs-connector-hadoop3-2.2.5.jar'\n",
    "\n",
    "conf = SparkConf() \\\n",
    "    .setMaster('local[*]') \\\n",
    "    .setAppName('test') \\\n",
    "    .set('spark.jars', connector_fpath) \\\n",
    "    .set('spark.hadoop.google.cloud.auth.service.account.enable', 'true') \\\n",
    "    .set('spark.hadoop.google.cloud.auth.service.account.json.keyfile', credentials_fpath)"
   ]
  },
  {
   "cell_type": "code",
   "execution_count": 4,
   "id": "f04e528f",
   "metadata": {},
   "outputs": [
    {
     "name": "stdout",
     "output_type": "stream",
     "text": [
      "25/02/01 11:15:32 WARN NativeCodeLoader: Unable to load native-hadoop library for your platform... using builtin-java classes where applicable\n"
     ]
    },
    {
     "name": "stderr",
     "output_type": "stream",
     "text": [
      "Setting default log level to \"WARN\".\n",
      "To adjust logging level use sc.setLogLevel(newLevel). For SparkR, use setLogLevel(newLevel).\n"
     ]
    }
   ],
   "source": [
    "sc = SparkContext(conf=conf)\n",
    "\n",
    "hadoop_conf = sc._jsc.hadoopConfiguration()\n",
    "\n",
    "hadoop_conf.set('fs.AbstractFileSystem.gs.impl', 'com.google.cloud.hadoop.fs.gcs.GoogleHadoopFS')\n",
    "hadoop_conf.set('fs.gs.impl', 'com.google.cloud.hadoop.fs.gcs.GoogleHadoopFileSystem')\n",
    "hadoop_conf.set('fs.gs.auth.service.account.json.keyfile', credentials_fpath)\n",
    "hadoop_conf.set('fs.gs.auth.service.account.enable', 'true')"
   ]
  },
  {
   "cell_type": "code",
   "execution_count": 5,
   "id": "c0605e15",
   "metadata": {},
   "outputs": [],
   "source": [
    "spark = SparkSession.builder \\\n",
    "    .config(conf=sc.getConf()) \\\n",
    "    .getOrCreate()"
   ]
  },
  {
   "cell_type": "code",
   "execution_count": 6,
   "id": "34630887",
   "metadata": {},
   "outputs": [
    {
     "name": "stderr",
     "output_type": "stream",
     "text": [
      "                                                                                \r"
     ]
    }
   ],
   "source": [
    "green_fpath = 'gs://de-zoomcamp-joshua-ny-taxi/pq/green/*/*'\n",
    "\n",
    "df_green = spark.read.parquet(green_fpath)"
   ]
  },
  {
   "cell_type": "code",
   "execution_count": 7,
   "id": "77ffba08",
   "metadata": {},
   "outputs": [
    {
     "name": "stderr",
     "output_type": "stream",
     "text": [
      "[Stage 1:>                                                          (0 + 1) / 1]\r"
     ]
    },
    {
     "name": "stdout",
     "output_type": "stream",
     "text": [
      "+--------+--------------------+---------------------+------------------+----------+------------+------------+---------------+-------------+-----------+-----+-------+----------+------------+---------+---------------------+------------+------------+---------+--------------------+\n",
      "|VendorID|lpep_pickup_datetime|lpep_dropoff_datetime|store_and_fwd_flag|RatecodeID|PULocationID|DOLocationID|passenger_count|trip_distance|fare_amount|extra|mta_tax|tip_amount|tolls_amount|ehail_fee|improvement_surcharge|total_amount|payment_type|trip_type|congestion_surcharge|\n",
      "+--------+--------------------+---------------------+------------------+----------+------------+------------+---------------+-------------+-----------+-----+-------+----------+------------+---------+---------------------+------------+------------+---------+--------------------+\n",
      "|       2| 2023-03-16 21:07:37|  2023-03-16 21:16:21|                 N|       1.0|           7|         179|            1.0|         0.94|        9.3|  1.0|    0.5|      2.22|         0.0|     null|                  0.3|       13.32|           1|        1|                 0.0|\n",
      "|       2| 2023-03-16 17:23:11|  2023-03-16 17:28:21|                 N|       1.0|          75|          74|            1.0|         1.42|        8.6|  2.5|    0.5|      3.15|         0.0|     null|                  1.0|       15.75|           1|        1|                 0.0|\n",
      "|       2| 2023-03-18 22:46:26|  2023-03-18 23:15:50|                 N|       1.0|          66|         100|            1.0|         4.87|       26.1|  1.0|    0.5|      6.27|         0.0|     null|                  1.0|       37.62|           1|        1|                2.75|\n",
      "|       2| 2023-03-30 16:59:44|  2023-03-30 17:08:05|                 N|       1.0|          43|         151|            1.0|         1.43|       10.0|  2.5|    0.5|       2.8|         0.0|     null|                  1.0|        16.8|           1|        1|                 0.0|\n",
      "|       2| 2023-03-28 11:28:46|  2023-03-28 11:33:35|                 N|       1.0|          42|          42|            1.0|         0.64|        6.5|  0.0|    0.5|       0.0|         0.0|     null|                  1.0|         8.0|           2|        1|                 0.0|\n",
      "+--------+--------------------+---------------------+------------------+----------+------------+------------+---------------+-------------+-----------+-----+-------+----------+------------+---------+---------------------+------------+------------+---------+--------------------+\n",
      "only showing top 5 rows\n",
      "\n"
     ]
    },
    {
     "name": "stderr",
     "output_type": "stream",
     "text": [
      "                                                                                \r"
     ]
    }
   ],
   "source": [
    "df_green.show(5)"
   ]
  },
  {
   "cell_type": "code",
   "execution_count": 8,
   "id": "ea72115c",
   "metadata": {},
   "outputs": [
    {
     "name": "stderr",
     "output_type": "stream",
     "text": [
      "                                                                                \r"
     ]
    },
    {
     "data": {
      "text/plain": [
       "1393284"
      ]
     },
     "execution_count": 8,
     "metadata": {},
     "output_type": "execute_result"
    }
   ],
   "source": [
    "df_green.count()"
   ]
  }
 ],
 "metadata": {
  "kernelspec": {
   "display_name": "Python 3 (ipykernel)",
   "language": "python",
   "name": "python3"
  },
  "language_info": {
   "codemirror_mode": {
    "name": "ipython",
    "version": 3
   },
   "file_extension": ".py",
   "mimetype": "text/x-python",
   "name": "python",
   "nbconvert_exporter": "python",
   "pygments_lexer": "ipython3",
   "version": "3.9.13"
  }
 },
 "nbformat": 4,
 "nbformat_minor": 5
}
