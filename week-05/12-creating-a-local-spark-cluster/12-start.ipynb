{
 "cells": [
  {
   "cell_type": "code",
   "execution_count": 1,
   "id": "bf634870",
   "metadata": {},
   "outputs": [
    {
     "name": "stderr",
     "output_type": "stream",
     "text": [
      "Setting default log level to \"WARN\".\n",
      "To adjust logging level use sc.setLogLevel(newLevel). For SparkR, use setLogLevel(newLevel).\n"
     ]
    },
    {
     "name": "stdout",
     "output_type": "stream",
     "text": [
      "25/02/01 13:40:13 WARN NativeCodeLoader: Unable to load native-hadoop library for your platform... using builtin-java classes where applicable\n"
     ]
    }
   ],
   "source": [
    "import pyspark\n",
    "from pyspark.sql import SparkSession\n",
    "\n",
    "master_url = 'spark://de-zoomcamp.asia-northeast3-c.c.de-zoomcamp-joshua.internal:7077'\n",
    "\n",
    "spark = SparkSession.builder \\\n",
    "    .master(master_url) \\\n",
    "    .appName('test') \\\n",
    "    .getOrCreate()"
   ]
  },
  {
   "cell_type": "markdown",
   "id": "fc7efa2c",
   "metadata": {},
   "source": [
    "* Go back to [http://localhost:8080](http://localhost:8080), then you'll see a new application is running."
   ]
  },
  {
   "cell_type": "code",
   "execution_count": 2,
   "id": "71a87ade",
   "metadata": {},
   "outputs": [
    {
     "data": {
      "text/html": [
       "\n",
       "            <div>\n",
       "                <p><b>SparkSession - in-memory</b></p>\n",
       "                \n",
       "        <div>\n",
       "            <p><b>SparkContext</b></p>\n",
       "\n",
       "            <p><a href=\"http://de-zoomcamp.asia-northeast3-c.c.de-zoomcamp-joshua.internal:4040\">Spark UI</a></p>\n",
       "\n",
       "            <dl>\n",
       "              <dt>Version</dt>\n",
       "                <dd><code>v3.3.2</code></dd>\n",
       "              <dt>Master</dt>\n",
       "                <dd><code>spark://de-zoomcamp.asia-northeast3-c.c.de-zoomcamp-joshua.internal:7077</code></dd>\n",
       "              <dt>AppName</dt>\n",
       "                <dd><code>test</code></dd>\n",
       "            </dl>\n",
       "        </div>\n",
       "        \n",
       "            </div>\n",
       "        "
      ],
      "text/plain": [
       "<pyspark.sql.session.SparkSession at 0x7f1573ff9e20>"
      ]
     },
     "execution_count": 2,
     "metadata": {},
     "output_type": "execute_result"
    }
   ],
   "source": [
    "spark"
   ]
  },
  {
   "cell_type": "markdown",
   "id": "a1355cf4",
   "metadata": {},
   "source": [
    "* Go back to `instruction-that-i-wrote-up.md` starting from **Run Workers** section."
   ]
  },
  {
   "cell_type": "code",
   "execution_count": 7,
   "id": "06dea5f4",
   "metadata": {},
   "outputs": [],
   "source": [
    "green_folderpath = 'data/pq/green/*/*'\n",
    "yellow_folderpath = 'data/pq/yellow/*/*'\n",
    "\n",
    "df_yellow = spark.read \\\n",
    "    .parquet(yellow_folderpath) \\\n",
    "    .selectExpr(\n",
    "        \"VendorID\",\n",
    "        \"tpep_pickup_datetime\",\n",
    "        \"tpep_dropoff_datetime\",\n",
    "        \"passenger_count\",\n",
    "        \"trip_distance\",\n",
    "        \"RatecodeID\",\n",
    "        \"store_and_fwd_flag\",\n",
    "        \"PULocationID\",\n",
    "        \"DOLocationID\",\n",
    "        \"payment_type\",\n",
    "        \"fare_amount\",\n",
    "        \"extra\",\n",
    "        \"mta_tax\",\n",
    "        \"tip_amount\",\n",
    "        \"tolls_amount\",\n",
    "        \"improvement_surcharge\",\n",
    "        \"total_amount\",\n",
    "        \"congestion_surcharge\",\n",
    "        \"airport_fee\"\n",
    "    )\n",
    "\n",
    "df_green = spark \\\n",
    "    .read.parquet(green_folderpath) \\\n",
    "    .selectExpr(\n",
    "        \"VendorID\",\n",
    "        \"lpep_pickup_datetime\",\n",
    "        \"lpep_dropoff_datetime\",\n",
    "        \"passenger_count\",\n",
    "        \"trip_distance\",\n",
    "        \"RatecodeID\",\n",
    "        \"store_and_fwd_flag\",\n",
    "        \"PULocationID\",\n",
    "        \"DOLocationID\",\n",
    "        \"payment_type\",\n",
    "        \"fare_amount\",\n",
    "        \"extra\",\n",
    "        \"mta_tax\",\n",
    "        \"tip_amount\",\n",
    "        \"tolls_amount\",\n",
    "        \"improvement_surcharge\",\n",
    "        \"total_amount\",\n",
    "        \"congestion_surcharge\"\n",
    "    )"
   ]
  },
  {
   "cell_type": "code",
   "execution_count": 8,
   "id": "134cfc2b",
   "metadata": {},
   "outputs": [],
   "source": [
    "df_yellow = df_yellow \\\n",
    "    .withColumnRenamed('tpep_pickup_datetime', 'pickup_datetime') \\\n",
    "    .withColumnRenamed('tpep_dropoff_datetime', 'dropoff_datetime')\n",
    "\n",
    "df_green = df_green \\\n",
    "    .withColumnRenamed('lpep_pickup_datetime', 'pickup_datetime') \\\n",
    "    .withColumnRenamed('lpep_dropoff_datetime', 'dropoff_datetime')"
   ]
  },
  {
   "cell_type": "code",
   "execution_count": 9,
   "id": "7a3f192e",
   "metadata": {},
   "outputs": [],
   "source": [
    "common_cols = []\n",
    "\n",
    "for item in set(df_yellow.columns) & set(df_green.columns):\n",
    "    common_cols.append(item)"
   ]
  },
  {
   "cell_type": "code",
   "execution_count": 10,
   "id": "693eb833",
   "metadata": {},
   "outputs": [],
   "source": [
    "from pyspark.sql import functions as F\n",
    "\n",
    "df_yellow_common = df_yellow \\\n",
    "    .select(common_cols) \\\n",
    "    .withColumn('service_type', F.lit('yellow'))\n",
    "\n",
    "df_green_common = df_green \\\n",
    "    .select(common_cols) \\\n",
    "    .withColumn('service_type', F.lit('green'))"
   ]
  },
  {
   "cell_type": "code",
   "execution_count": 11,
   "id": "d0815e53",
   "metadata": {},
   "outputs": [],
   "source": [
    "df_all = df_yellow_common.unionAll(df_green_common)"
   ]
  },
  {
   "cell_type": "code",
   "execution_count": 12,
   "id": "0de9c598",
   "metadata": {},
   "outputs": [
    {
     "name": "stderr",
     "output_type": "stream",
     "text": [
      "[Stage 6:=================================================>       (21 + 3) / 24]\r"
     ]
    },
    {
     "name": "stdout",
     "output_type": "stream",
     "text": [
      "+------------+--------+\n",
      "|service_type|   count|\n",
      "+------------+--------+\n",
      "|      yellow|75811575|\n",
      "|       green| 1393284|\n",
      "+------------+--------+\n",
      "\n"
     ]
    },
    {
     "name": "stderr",
     "output_type": "stream",
     "text": [
      "\r\n",
      "                                                                                \r"
     ]
    }
   ],
   "source": [
    "df_all.groupBy('service_type').count().show()"
   ]
  },
  {
   "cell_type": "code",
   "execution_count": 13,
   "id": "bc5be99f",
   "metadata": {},
   "outputs": [
    {
     "data": {
      "text/plain": [
       "['DOLocationID',\n",
       " 'congestion_surcharge',\n",
       " 'RatecodeID',\n",
       " 'total_amount',\n",
       " 'VendorID',\n",
       " 'extra',\n",
       " 'mta_tax',\n",
       " 'fare_amount',\n",
       " 'tip_amount',\n",
       " 'passenger_count',\n",
       " 'trip_distance',\n",
       " 'store_and_fwd_flag',\n",
       " 'payment_type',\n",
       " 'dropoff_datetime',\n",
       " 'tolls_amount',\n",
       " 'improvement_surcharge',\n",
       " 'PULocationID',\n",
       " 'pickup_datetime',\n",
       " 'service_type']"
      ]
     },
     "execution_count": 13,
     "metadata": {},
     "output_type": "execute_result"
    }
   ],
   "source": [
    "df_all.columns"
   ]
  },
  {
   "cell_type": "code",
   "execution_count": 14,
   "id": "6c75d30e",
   "metadata": {},
   "outputs": [],
   "source": [
    "df_all.createOrReplaceTempView('trips_data')"
   ]
  },
  {
   "cell_type": "code",
   "execution_count": 15,
   "id": "c474cad6",
   "metadata": {},
   "outputs": [
    {
     "name": "stderr",
     "output_type": "stream",
     "text": [
      "[Stage 9:=============================================>           (19 + 4) / 24]\r"
     ]
    },
    {
     "name": "stdout",
     "output_type": "stream",
     "text": [
      "+------------+--------+\n",
      "|service_type|     cnt|\n",
      "+------------+--------+\n",
      "|      yellow|75811575|\n",
      "|       green| 1393284|\n",
      "+------------+--------+\n",
      "\n"
     ]
    },
    {
     "name": "stderr",
     "output_type": "stream",
     "text": [
      "\r\n",
      "[Stage 9:=================================================>       (21 + 3) / 24]\r\n",
      "\r\n",
      "                                                                                \r"
     ]
    }
   ],
   "source": [
    "query = \"\"\"\n",
    "    SELECT\n",
    "        service_type,\n",
    "        COUNT(1) AS cnt\n",
    "    FROM\n",
    "        trips_data\n",
    "    GROUP BY\n",
    "        1\n",
    "\"\"\"\n",
    "\n",
    "spark.sql(query).show()"
   ]
  },
  {
   "cell_type": "code",
   "execution_count": 16,
   "id": "a290816f",
   "metadata": {},
   "outputs": [],
   "source": [
    "query = \"\"\"\n",
    "\n",
    "SELECT \n",
    "    PULocationID AS revenue_zone,\n",
    "    DATE_TRUNC('MONTH', pickup_datetime) AS yyyy_mm,\n",
    "    service_type,\n",
    "\n",
    "    SUM(fare_amount) AS fare_amount,\n",
    "    SUM(extra) AS extra,\n",
    "    SUM(mta_tax) AS mta_tax,\n",
    "    SUM(tip_amount) AS tip_amount,\n",
    "    SUM(tolls_amount) AS tolls_amount,\n",
    "    SUM(improvement_surcharge) AS improvement_surcharge,\n",
    "    SUM(total_amount) AS total_amount,\n",
    "    SUM(congestion_surcharge) AS congestion_surcharge,\n",
    "    AVG(passenger_count) AS avg_passenger_cnt,\n",
    "    AVG(trip_distance) AS avg_trip_distance\n",
    "FROM\n",
    "    trips_data\n",
    "GROUP BY\n",
    "    1, 2, 3\n",
    "\"\"\"\n",
    "\n",
    "df_result = spark.sql(query)"
   ]
  },
  {
   "cell_type": "code",
   "execution_count": 17,
   "id": "4e9b43c8",
   "metadata": {},
   "outputs": [
    {
     "name": "stderr",
     "output_type": "stream",
     "text": [
      "                                                                                \r"
     ]
    }
   ],
   "source": [
    "result_folderpath = 'data/report/revenue/'\n",
    "\n",
    "# coalesce(1): Decrease the Number of Partitions to 1\n",
    "df_result.coalesce(1).write.parquet(result_folderpath, mode='overwrite')"
   ]
  }
 ],
 "metadata": {
  "kernelspec": {
   "display_name": "Python 3 (ipykernel)",
   "language": "python",
   "name": "python3"
  },
  "language_info": {
   "codemirror_mode": {
    "name": "ipython",
    "version": 3
   },
   "file_extension": ".py",
   "mimetype": "text/x-python",
   "name": "python",
   "nbconvert_exporter": "python",
   "pygments_lexer": "ipython3",
   "version": "3.9.13"
  }
 },
 "nbformat": 4,
 "nbformat_minor": 5
}
